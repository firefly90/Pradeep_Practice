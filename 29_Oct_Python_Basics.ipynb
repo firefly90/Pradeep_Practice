{
 "cells": [
  {
   "cell_type": "code",
   "execution_count": 22,
   "id": "e6873bac-8253-42a1-a5d5-5de61b918323",
   "metadata": {},
   "outputs": [],
   "source": [
    "#Python Basic Variables\n",
    "x=int(3)\n",
    "y=int(5)\n",
    "print(f\"Value of X is {x}\")\n",
    "print(f\"Value of Y is {y}\")\n",
    "y,x=x,y     #Swapping variables#\n",
    "print(f\"Value of X is {x}\")\n",
    "print(f\"Value of Y is {y}\")"
   ]
  },
  {
   "cell_type": "code",
   "execution_count": 33,
   "id": "474c98e3-3b1f-41a2-a2c6-da4090286930",
   "metadata": {},
   "outputs": [
    {
     "name": "stdin",
     "output_type": "stream",
     "text": [
      "Please enter the Length of the rectangle 45\n",
      "Please enter the Breadth of the rectangle 32\n"
     ]
    },
    {
     "name": "stdout",
     "output_type": "stream",
     "text": [
      "The Area of the rectangle is 1440.0\n"
     ]
    }
   ],
   "source": [
    "#Area of Rectangle\n",
    "l=float(input(\"Please enter the Length of the rectangle\"))\n",
    "b=float(input(\"Please enter the Breadth of the rectangle\"))\n",
    "area=l*b   #Forumla for Area\n",
    "print(\"The Area of the rectangle is\",area)"
   ]
  },
  {
   "cell_type": "code",
   "execution_count": 35,
   "id": "e7f79e64-8773-42f3-acfb-f106c9e3f3c2",
   "metadata": {},
   "outputs": [
    {
     "name": "stdin",
     "output_type": "stream",
     "text": [
      "Enter the temperature in Celcius: 3\n"
     ]
    },
    {
     "name": "stdout",
     "output_type": "stream",
     "text": [
      "The temperatire in Farhenheit is: 37.4 F\n"
     ]
    }
   ],
   "source": [
    "#Celcius to Farhenheit\n",
    "c=float(input(\"Enter the temperature in Celcius:\"))\n",
    "f=c*(9/5)+32 #Formula to convert Farhenheit to Celcius\n",
    "print(\"The temperatire in Farhenheit is:\",f,\"F\")"
   ]
  },
  {
   "cell_type": "code",
   "execution_count": 36,
   "id": "3286e9b5-95e1-4097-afdc-a58800a4ada5",
   "metadata": {},
   "outputs": [
    {
     "name": "stdin",
     "output_type": "stream",
     "text": [
      "Please tner a string: pradeep\n"
     ]
    },
    {
     "name": "stdout",
     "output_type": "stream",
     "text": [
      "The length of the string is: 7\n"
     ]
    }
   ],
   "source": [
    "#Length of the String\n",
    "s=str(input(\"Please tner a string:\"))\n",
    "print(\"The length of the string is:\",len(s)) #len(s) returns the length of the string"
   ]
  },
  {
   "cell_type": "code",
   "execution_count": 64,
   "id": "413de0f0-7bc1-4244-89ee-ae8227b1fd61",
   "metadata": {},
   "outputs": [
    {
     "name": "stdout",
     "output_type": "stream",
     "text": [
      "This program counts the vowel in a String\n",
      "\n"
     ]
    },
    {
     "name": "stdin",
     "output_type": "stream",
     "text": [
      "Please enter a String: Devi\n"
     ]
    },
    {
     "name": "stdout",
     "output_type": "stream",
     "text": [
      "The number of vowels in the String is: 2\n"
     ]
    }
   ],
   "source": [
    "#Vowels in a string\n",
    "print(\"This program counts the vowel in a String\\n\")\n",
    "sen=str(input(\"Please enter a String:\"))\n",
    "vowels=\"aeiouAEIOU\" #Declare the vowels\n",
    "temp=0\n",
    "for i in vowels:\n",
    "    temp= temp+sen.count(i)  #For loop checks each vowel in the string\n",
    "print(\"The number of vowels in the String is:\",temp)"
   ]
  },
  {
   "cell_type": "code",
   "execution_count": 21,
   "id": "201558ad-50fd-4ee6-b02d-1bfacb2aee1b",
   "metadata": {},
   "outputs": [
    {
     "name": "stdin",
     "output_type": "stream",
     "text": [
      "Please enter a String: Devi\n"
     ]
    },
    {
     "name": "stdout",
     "output_type": "stream",
     "text": [
      "The reversed String is: iveD\n"
     ]
    }
   ],
   "source": [
    "#String Reverse using slicing\n",
    "sen=str(input(\"Please enter a String:\"))\n",
    "print(\"The reversed String is:\",sen[::-1])"
   ]
  },
  {
   "cell_type": "code",
   "execution_count": 25,
   "id": "1d430859-b4ac-48df-9cd8-6b758b694bc3",
   "metadata": {},
   "outputs": [
    {
     "name": "stdout",
     "output_type": "stream",
     "text": [
      "hHis program checks if a String is Palindrome or not\n"
     ]
    },
    {
     "name": "stdin",
     "output_type": "stream",
     "text": [
      "Please Enter the String: XoX\n"
     ]
    },
    {
     "name": "stdout",
     "output_type": "stream",
     "text": [
      "THe String is a Palindrome\n"
     ]
    }
   ],
   "source": [
    "#Palindrome Check\n",
    "print(\"This program checks if a String is Palindrome or not\")\n",
    "sen=str(input(\"Please Enter the String:\"))\n",
    "if sen==sen[::-1]:\n",
    "    print(\"The String is a Palindrome\")\n",
    "else:\n",
    "    print(\"The String is not Palindrome\")\n"
   ]
  },
  {
   "cell_type": "code",
   "execution_count": 42,
   "id": "b5d481d9-038c-4b0e-a0e8-68b4b9f30339",
   "metadata": {},
   "outputs": [
    {
     "name": "stdout",
     "output_type": "stream",
     "text": [
      "This program removes spaces and outputs claned string\n"
     ]
    },
    {
     "name": "stdin",
     "output_type": "stream",
     "text": [
      "Please enter the String:   Pr  ade ep\n"
     ]
    },
    {
     "name": "stdout",
     "output_type": "stream",
     "text": [
      "The cleaned String is: Pradeep\n"
     ]
    }
   ],
   "source": [
    "#Remove Spaces in String\n",
    "print(\"This program removes spaces and outputs claned string\")\n",
    "sen=str(input(\"Please enter the String:\"))\n",
    "print(\"The cleaned String is:\",sen.replace(\" \",\"\").strip())"
   ]
  },
  {
   "cell_type": "code",
   "execution_count": 41,
   "id": "2ed92149-1560-41ec-81a7-41afbab3aaea",
   "metadata": {},
   "outputs": [
    {
     "data": {
      "text/plain": [
       "'Pradeep'"
      ]
     },
     "execution_count": 41,
     "metadata": {},
     "output_type": "execute_result"
    }
   ],
   "source": []
  },
  {
   "cell_type": "code",
   "execution_count": 33,
   "id": "e8830e35-1265-4bf8-a2c9-9838098a7eb9",
   "metadata": {},
   "outputs": [
    {
     "data": {
      "text/plain": [
       "'P rade ep'"
      ]
     },
     "execution_count": 33,
     "metadata": {},
     "output_type": "execute_result"
    }
   ],
   "source": [
    "sen"
   ]
  },
  {
   "cell_type": "code",
   "execution_count": null,
   "id": "404d22ec-d02a-4868-aa8b-9f2d2499ab61",
   "metadata": {},
   "outputs": [],
   "source": []
  }
 ],
 "metadata": {
  "kernelspec": {
   "display_name": "Python 3 (ipykernel)",
   "language": "python",
   "name": "python3"
  },
  "language_info": {
   "codemirror_mode": {
    "name": "ipython",
    "version": 3
   },
   "file_extension": ".py",
   "mimetype": "text/x-python",
   "name": "python",
   "nbconvert_exporter": "python",
   "pygments_lexer": "ipython3",
   "version": "3.10.8"
  }
 },
 "nbformat": 4,
 "nbformat_minor": 5
}
